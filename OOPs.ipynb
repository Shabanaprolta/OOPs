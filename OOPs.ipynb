{
  "nbformat": 4,
  "nbformat_minor": 0,
  "metadata": {
    "colab": {
      "provenance": []
    },
    "kernelspec": {
      "name": "python3",
      "display_name": "Python 3"
    },
    "language_info": {
      "name": "python"
    }
  },
  "cells": [
    {
      "cell_type": "markdown",
      "source": [
        "# **Python OOPs Questions**"
      ],
      "metadata": {
        "id": "4ff53v8RWJMQ"
      }
    },
    {
      "cell_type": "markdown",
      "source": [
        "# 1. What is Object-Oriented Programming(OOP) ?\n",
        "-> Object - oriented programming (OOP) is a computer programming model that organizes software around objects, or data, instead of logic and functions . In OOP, programs are made up of objects that interact with each other.\n",
        "OOP is well suited for complex , large , and frequently updated software , such as mobile applications and manufacturing and design programs . Some benefits of OOP include :\n",
        "-  *Code resuality* : Programmers can more easily troubleshoot issues in OOP programs.\n",
        "- *Scalibility* : OOP programs can scale.\n",
        "- *Efficiency* : OOP programs are efficient.\n",
        "\n",
        "# 2. What is a class in OOP ?\n",
        "-> A class is a template that defines the methods and variables for specific type of object. Classes are a fundamental concept in OOP and are used to create and manage objects.\n",
        "Here are some key characteristics of classes in OOP:\n",
        "- *Blueprint* : A class is a blueprint for creating objects. It defines the shared aspects of objects , such as their state and behaviour.\n",
        "- *Inheritance* : a class can have subclasses that inherit some or all of the class's characteristics. The class is the superclass of its subclasses.\n",
        "- *Methods* : Methods are functions that objects can perform and they are defined inside a class.\n",
        "- *Attributes* : Attributes represent the state of an object , and they are the characteristics that distinguish classes.\n",
        "\n",
        "# 3. What is an object in OOP ?\n",
        "-> An object is a self - contained entity that encapsulates data and behaviour . It is a fundamental building block that allows for the creation for the modular, reusable and maintainable code. As its core, an object is an instance of a class. A class serves as a blueprint or template , defining the structure and capabilities that its object will possess. When an object is created, it inherits the attributes (data) and methods (behaviour) specified by its class.\n",
        "# 4. What is the difference between abstraction and encapsulation ?\n",
        "-> While both abstraction and encapsulation involve hiding information , the key difference is that abstraction focuses on presenting only the essential details of a system, hiding unnecessary complexities , while encapsulation involves bundling data and methods together within a single unit and controlling access to that data , ensuring data protection ; essentially , abstraction is about \"what\" a system does , while encapsulation is about \"how it does it\".\n",
        "# 5. What are dunder methods in Python?\n",
        "\n",
        "-> Dunder methods , also known as magic methods, are special methods in python used to define how objects behave with built-in operations. They are easily recognizable by their double underscores at the beginning and end of their names , for example , __init__ or __str__. The term \"dunder\" is short for \"double underscore.\"\n",
        "These methods are not typically called directly by the user . Instead , they are invoked automatically by Python when certain operations are performed on objects of a class .By implementing dunder methods, a programmer can customize the behaviour of their objects and make them work seamlessly with Python's language constructs. Common use cases-\n",
        "- Object Creation and Initialization - The __init__ method is used to initialize the state of a new object when it is created. It's the most common dunder method.\n",
        "- Arithmetic Operations -\n",
        "Dunder methods like __add__ , __sub__ , __mul__ ,and  __truediv__ overload the behaviour of arithmetic operators (+, - , \\*, /)  for custom objects . For example , __add__ defines what happens when the + operator is used between two objects of a class.\n",
        "- Context Management - The __Enter__ and __exit__ methods are used to define the behaviour of objects within with statements , enabling resource management( e.g., file handling).\n",
        "\n",
        "\n",
        "# 6. Explain the concept of inheritance in OOP.\n",
        "-> In object- oriented programming (OOP), inheritance is a fundamental concept that allows a class to inherit properties and behaviour from another class:\n",
        "- Types of inheritance - There are several typesof inheritance, including single , multiple , multilevel, hierarchical , and hybrid. Eacg type offers different structural relationship between classes.\n",
        "- Benefits - Inheritance promotes code reuse, minimizes redundancy , and estabilishes a hierarchical structured approach to building and extending classes.\n",
        "- Example - In the Animal class has common properties like name and age , and a method called eat(), then a Dog class that inherits from Animal can add its own specific property , barksound , and two methods , bark() and display().\n",
        "\n",
        "# 7. What is polymorphism in OOP?\n",
        "\n",
        "-> Polymorphism is a feature of object- oriented programming languages that allows a specific routine to use variables of different types at different times. Polymorphism in programming gives a program the ability to redefine methods for derived classes.In Python , polymorphism can be seen in function overloading , where functions of the same name can behave differently based on the number of types of parameters , and operator overloading , allowing operators to behave differently based on the operands they work with.\n",
        "# 8. How is encapsulation achieved in Python?\n",
        "-> Encapsulation in Python is achieved through access modifiers, which control the visibility and accessibility of class members (attributes and methods). Python uses naming conventions to suggest the level of access, rather than enforcing it with keywords like public, private , or protected found in some other languages.\n",
        "There are three main types of access modifires in Python :\n",
        "- Public -\n",
        " - Members declared as public are accessible from anywhere , both inside and outside the class .\n",
        " - By default , all members in a Python class are public.\n",
        " - Example:\n",
        "\n",
        " class My class :    \n",
        "      def __init__ (self):\n",
        "         self.public_attribute = 10\n",
        "      def public_method (self) :     \n",
        "         return \" This is a public method \"\n",
        "\n",
        " obj = My class ()\n",
        " print (obj.public_attribute )\n",
        " print (obj.public_method())\n",
        "\n",
        " #output : This is a public method\n",
        "\n",
        "- Protected -\n",
        " - Members declared as protected are intended to be accessed within the class itself and its subclasses (inheritance).\n",
        " - They are denoted by a single underscore prefix _ before the members name .\n",
        " - Example :    \n",
        " class MyClass :\n",
        "     def __init__ (self) :\n",
        "         self._protected_attribute = 20\n",
        "\n",
        "     def _protected_method(self):\n",
        "         return \"This is a protected method\"\n",
        "\n",
        " class Mysubclass (My class):\n",
        "     def access_proteted(self):\n",
        "         print(self.proteted_attribute) # accessing protected memners from subclass\n",
        "         print(self._protected_method)\n",
        "\n",
        " obj = Myclass ()\n",
        " print (obj._protected_attribute )\n",
        "\n",
        " sub_obj = My Subclass ()\n",
        " sub_obj.access_protected()\n",
        "\n",
        " ### Output : 20\n",
        " ### This is a protected method\n",
        "\n",
        "- Private -\n",
        " - Members declared as private are intended to be accessed only within the class itself.\n",
        " - They are denoted by a double underscore prefix __ before the member name ( name mangling ).\n",
        " - Example -\n",
        " class MyClass:\n",
        "     def __init__(self):\n",
        "        self._private_attribute = 30\n",
        "\n",
        "     def __private_method (self) :\n",
        "        return \"This is a private method\"\n",
        "\n",
        "     def access_private (self) :   \n",
        "        print (self.private_attribute) #Accessing private method member from inside the class\n",
        "        print (self.__private_method() )\n",
        "\n",
        " obj= MyClass()\n",
        " ### print (obj.__private_attribute) # Error : Attribute Error : 'My class' object has no attribute '__private_attribute'\n",
        " print (obj.__private_method())\n",
        "\n",
        " obj.access_private()\n",
        " ### Output : 30\n",
        " ### This is a private method\n",
        "\n",
        " print(obj._MyClass__private _attribute) # Output : 30 (Accessing private member using name mangling - not recommended)\n",
        " print(obj._MyClass__private_method ()) #Output : This is a private method (Accessing private method using name mangling - not recommended)\n",
        "\n",
        "# 9. What is a constructor in Python ?\n",
        "\n",
        "-> In Python, a constructor is a special method within a class that initializes the attributes of an object when the object is created . it's automatically called when a new instance of the class is initantiated .\n",
        "The constructor method is named __init__ and is defined within the class definition. It always takes *self* as its first parameter , which refers to the instance of the object being created. Additional parameters can be included to initialize the object with specific values.   \n",
        "# 10. What are class and static methods in Python?\n",
        "-> Both class and static methods are bound to a class rather then an instance of the class . They are distinguished from instance methods, which require a class instance to be called.\n",
        "- Class Methods:\n",
        " - Take the class itself as the first arguement , conventionally named *cls* .\n",
        " - can access and modify class-level attributes.\n",
        " - Are defined  using the @classmethod decorator.\n",
        "- Static Methods -\n",
        " - Do not take the class or instance as an implicit first arguement.\n",
        " - Cannot access or modify class or instance attribute directly.\n",
        " - Are defined using the @staticmethod decorator.\n",
        "\n",
        "# 11. What is method overloading in Python?\n",
        "-> Method overloading in Python refers to the ability to define multiple methods in the same class with the same name but with different parameter lists. This allows a single method name to perform different actions based on the number or type of arguments passed to it.\n",
        "While Python does not support method overloading in the traditional sence as some other languages ,it achieves a similar effect through flexible arguement handling . Python uses default arguements , variable - length arguements (*args , **kwargs), or conditional logic within a single method definition to handle different scenarios.\n",
        "\n",
        "# 12. What is method overriding in OOP?\n",
        "-> Method overriding is a feature in object - oriented programming (OOP) that allows a subclass to replace the implementation of a method in its superclass:\n",
        "- Benefits -\n",
        "Method overridin allows developer to customize the behavior of inherited methods without modifying the parent class's code. It also enables polymorphism , which allows object of different classes to be treated interchangeably.\n",
        "- Examples -\n",
        "Method ovverriding can be used in GUI libraries to customize buttons to respond differently to user interactions. In game development, different characters can share common behaviors while implementing unique abilities through method overriding.\n",
        "\n",
        "# 13. What is a property decorator in Python ?\n",
        "-> In Python , a property decorator is a built-in feature that allows methods to be accessed like attributes. It provides a way to implement custom logic when getting , setting , or deleting an attribute , without requiring the user to explicitly  call getter or setter methods. This mechanism is useful for data validation, lazy evaluation, and creating managed attributes.\n",
        "The property decorator is used to define the \"getter\" method, which is invoked when the attribute is accessed . To define \"setter\" and \"deleter\" methods, one can use the @attribute.setter and @attribute.deleter decorators, respectively.\n",
        "# 14. Why is polymorphism important in OOP?\n",
        "-> Polymorphism is an important feature of object - oriented programming(OOP) because it allows deelopers to:\n",
        "- Write generic code : Developers can write code that works on different types of objects , which reduces redundancy and improves efficiency.\n",
        "- Reuse code : Developers can reuse code, which saves time and speeds up development.\n",
        "- Improve readability : Polymorphism can improve code readability.\n",
        "- Extend Programs: Polymorphism makes it easier to extend or change aspects of programs without affecting the entire programs.\n",
        "\n",
        "# 15. What is an abstract class in Python?\n",
        "-> An abstract class in Python serves as a blueprint for other classes. It cannot be instantiated directly and is designed to be subclassed. Abstract classes define a common interface for different subclasses, ensuring that certain methods are implemented.\n",
        "Key Features :\n",
        "- Abstraction : They define a general structure without providing concrete implementations for all methods.\n",
        "- Enforcement :\n",
        "Subclasses are required to implement the abstract methods, providing a consistent interface.\n",
        "- Improved Readability and Maintainability : Provide clear guidelines for developers about the structure and behavior expected from subclasses.\n",
        "\n",
        "# 16. What are the advantages of OOP?\n",
        "-> Object- Oriented Programming (OOP) has many advantages , including :\n",
        "- Modularity -\n",
        "Encapsulation makes objects self - contained , which makes it easier to troubleshoot and collaborate on development.\n",
        "- Security -\n",
        "Encapsulation and abstraction hide complex code, which makes software  maintainance easier and protects internet protocols.\n",
        "- Flexibility -\n",
        "Polymorphism allows a single function to adapt to the class it's placed in.\n",
        "- Scalability - OOP supports inheritance and polymorphism , which makes it easier to scale and extend software systems.\n",
        "- Abstraction -\n",
        "Abstraction simplifies complex reality by modeling classes based on real - world entities and their interactions.\n",
        "\n",
        "\n",
        "# 17. What is the difference between a class variable and an instance variable?\n",
        "-> The main difference between a class variable and an intance variable is that class variable are shared among all instances of a class , while instance variable are unique to each instance:\n",
        "- Class variables -\n",
        "These variables are shared among all instances and subclasses of a class. They are useful for storing data that needs to be consistent across a class hierarchy. Class variable are also known  as static variables.\n",
        "- Instance variables-\n",
        "These variables are unique to each object of a class. They are useful for storing instance- specific data. Instance variables are also known as non- static variables.\n",
        "\n",
        "# 18. What is multiple inheritance in Python?\n",
        "-> Multiple inheritance in Python is a feature that allows a class to inherit attributes and methods from more than one parent class. This means a child class can inherit and combine functionalities from multiple independent classes, enabling code reuse and creating complex class hierarchies.\n",
        "- How it works :\n",
        "When a class is defined with multiple parent classes, it inherits attributes and methods from all of them. The syntax for multiple inheritance involves listing the parent classes within the paranthesis of the class definition, separated by commas.\n",
        "- Use cases: Multiple inheritance can be useful in scenarios where a class needs to combine functionalities from different sources. For example, a class representing a \" FlyingCar\" could inherit from both a \"Car\" class and a \"Plane\" class, inheritance functionalities related to driving and flying.\n",
        "\n",
        "# 19. Explain the purpose of \"__str__ 'and' __repr__\" methods in Python.\n",
        "->In Python , __str__ and __repr__ are special methods used to define how objects are represented as strings. While both serve the purpose of string conversion, they cater to different audiences and scenarios.\n",
        "The __str__ method aims to provide a human-readable , informal string representation of an object.\n",
        "The __repr__ method aims to provide an unambiguous , developer- friendly string representaion of an object.\n",
        "\n",
        "-Example , str(point) returns a user friendly representation , while repr (point) returns a string that could be used to recreate the point object.\n",
        "\n",
        "class Point :\n",
        "    def __init__(self,x,y):\n",
        "         self.x = x\n",
        "         self.y = y\n",
        "    \n",
        "    def __str__(self):\n",
        "         return f\" ({self.x},{self.y})\"\n",
        "\n",
        "    def __repr__(self):\n",
        "         return f\"Point({self.x} , {self.y})\"\n",
        "\n",
        " point = Point ( 2, 3 )\n",
        "\n",
        " print (str(point)) # Output : ( 2, 3 )\n",
        " print (repr(point)) #Output : Point(2,3)\n",
        "\n",
        "# 20. What is the significance of the super() function in Python?\n",
        "-> The super() function in Python serves a crucial role in object - oriented programming , specifically within the context of class inheritance . Its primary significance lies in enabling a class to access and utilize methods from its parent class(also known as a superclass).\n",
        "- Accessing Parent Class Methods:\n",
        "super() allows a subclass to call methods defined in its parent class. This is particularly useful when a subclass needs to extend or modify the behavior of a parent class method while still retaining the original functionality.\n",
        "- Code Reuseability and Maintainability :\n",
        " - By using super () , developers can avoid rewriting code that already exits in the parent class. This promotes code reusability and reduces redundancy .\n",
        " - When changes are made to a parent class method, the updates are automatically reflected in the subclasses that use super(), simplifying maintenance and ensuring consistency.\n",
        "\n",
        "# 21. What is the significance of the __del__ method in Python?\n",
        "-> The del statement in Python serves to remove references to objects . It can be used to delete variables , items from lists and dictionaries, or attribute from objects.\n",
        "Significance:\n",
        "- Memory Management:\n",
        "By removing references, del helps in freeing up memory. When an object has no references pointing to it, the garbage collector can reclaim the memory it occupies.\n",
        "- Cleanup:\n",
        "del can be used to explicity release resources held by an object, although in many cases , Python's automatic garbage collection handles this.\n",
        "- Removing elements :\n",
        "del provides a way to modify mutable data structures like lists and dictionaries by removing elements at specific positions or with specific keys.\n",
        "\n",
        "# 22. what is the difference between @staticmethod and @classmethod in Python?\n",
        "-> Here is the difference between @staticmethod and @classmethod in Python:\n",
        "- @staticmethod -\n",
        " - A static method is bound to the class and not teh instance of the class\n",
        " - It does not receive any implicit arguement(neither self nor cls ).\n",
        " - It cannot access or modify the class state.\n",
        " - It is called using the class name or an instance of the class.\n",
        "\n",
        "- @classmethod-\n",
        " - A class method is bound to the class and not the instance of the class.\n",
        " - It receives the class as an implicit first arguement(cls).\n",
        " - It can access and modify the class state (class variable).\n",
        " - It's useful for factory methods, alternative constructors, and operations that need to modify the class itself.\n",
        "\n",
        "\n",
        "# 23. How does polymorphism work in Python with inheritance?\n",
        "-> Polymorphism, meaning \"many forms\" allows objects of different classes to respond to the same method call in their own way. In Python , this is achieved through injeritance and method overriding.\n",
        "Here's a breakdown of how it works :\n",
        "- Inheritance : A child class inherits attributes and methods from a parent class.\n",
        "- Method Overriding : The child class redefines a method that already exists in parent class, providing its own implementation.\n",
        "- Polymorphism in Action : When a method is called on an object, Python uses dynamic dispathch to determine which method implementation to execute based on the object's actual type. If the object is an instance of the child class, the overridden method in the child class is called . If the object is an instance of the parent class, the parent class's method is called.\n",
        "\n",
        "# 24. What is method chaining in Python OOP?\n",
        "-> Method chaining in Python OOP refers to the practice of calling multiple methods on an object sequentially in a single line of code. This technique enhances code readability and conciseness by eliminating the need for storing intermediate results in separate variables.\n",
        "Here's how it works:\n",
        "- An object is created from a class.\n",
        "- Thefirst method is called on the object.\n",
        "- This method performs its operation and returns the object itself.\n",
        "- Steps 3 and 4 are repeated for each subsequent method in the chain.\n",
        "- The final method in the chain performs its operation and may or may not return the object , depending on the desired outcome.\n",
        "\n",
        "Method chaining is a powerful technique that can make code more expressive and easier to understand, particularly when dealing with objects that undergo a series of transformations or operations.\n",
        "\n",
        "# 25. What is the purpose of the __call__ method in Python?\n",
        "-> The __call__ method in Python serves to make instances of a class callable, like regular functions. When an objects's __call__ method is defined, the object can be invoked using paranthesis, similar to how a function is called.\n",
        "The primary purpose of __call__ is to create objects that can encapsulate state and behavior, and yet be invoked directly . This is particularly useful in scenarios where you need a function- like object that can maintain internal data or configurations.\n",
        "In essence , the __call__ method provides a powerful mechanism for creating flexible and expressive code by allowing objects to act as functions, extending the capabilities of classes beyond simple data structures."
      ],
      "metadata": {
        "id": "ZtHHyP0yWgIz"
      }
    },
    {
      "cell_type": "markdown",
      "source": [
        "# **Practical Questions**"
      ],
      "metadata": {
        "id": "T3GxcDTOfvsa"
      }
    },
    {
      "cell_type": "code",
      "source": [
        "# 1 Create a parent class Animal with a method speak () that prints a generic message. Create a child class Dog that overrides the speak() method to print \"Bark!\"\n",
        "class Animal :\n",
        "    def speak(self):\n",
        "        print(\"Generic animal sound\")\n",
        "\n",
        "class Dog(Animal):\n",
        "    def speak(self):\n",
        "        print(\"Bark!\")\n",
        "\n",
        "# Example usage :\n",
        "animal = Animal()\n",
        "animal.speak()\n",
        "\n",
        "dog = Dog()\n",
        "dog.speak()\n"
      ],
      "metadata": {
        "id": "l1dzBIDTgEXo",
        "colab": {
          "base_uri": "https://localhost:8080/"
        },
        "outputId": "308f625c-4344-45e5-b502-a2c5fd96bcbb"
      },
      "execution_count": null,
      "outputs": [
        {
          "output_type": "stream",
          "name": "stdout",
          "text": [
            "Generic animal sound\n",
            "Bark!\n"
          ]
        }
      ]
    },
    {
      "cell_type": "code",
      "source": [
        "# 2 Write a program to create an abstract class shape with a method area (). Derive classes Circle and Rectangle from it and implement the area() method.\n",
        "\n",
        "from abc import ABC, abstractmethod\n",
        "import math\n",
        "\n",
        "class Area(ABC):\n",
        "    @abstractmethod\n",
        "    def area(self):\n",
        "        pass\n",
        "\n",
        "class Circle(Area):\n",
        "    def __init__(self, radius):\n",
        "        self.radius = radius\n",
        "\n",
        "    def area(self):\n",
        "            return math.pi * self.radius ** 2\n",
        "\n",
        "class Rectangle(Area):\n",
        "    def __init__(self, length , width):\n",
        "        self.length = length\n",
        "        self.width = width\n",
        "\n",
        "    def area(self):\n",
        "            return self.length * self.width\n",
        "\n",
        "circle = Circle (5)\n",
        "rectangle = Rectangle (4, 6)\n",
        "print(f\"Circle Area: ({circle.area()}\")\n",
        "print(f\"Rectangle Area: {rectangle.area()}\")\n",
        "\n"
      ],
      "metadata": {
        "colab": {
          "base_uri": "https://localhost:8080/"
        },
        "id": "IbV72WcZC4le",
        "outputId": "318e3fac-b58a-4f71-dd8b-4e14ad6a7a23"
      },
      "execution_count": null,
      "outputs": [
        {
          "output_type": "stream",
          "name": "stdout",
          "text": [
            "Circle Area: (78.53981633974483\n",
            "Rectangle Area: 24\n"
          ]
        }
      ]
    },
    {
      "cell_type": "code",
      "source": [
        "# 3 Implement a multi - level inheritance scenario where a class Vehicle has an attribute type. Derive a class car and further derive  a class Electric Car that adds a battery attribute.\n",
        "class Vehicle :\n",
        "    def __init__(self, vehicle_type):\n",
        "        self.vehicle_type = vehicle_type\n",
        "\n",
        "class Car(Vehicle):\n",
        "    def __init__(self, vehicle_type, brand):\n",
        "\n",
        "        super().__init__(vehicle_type)\n",
        "        self.brand = brand\n",
        "\n",
        "class ElectricCar(Car):\n",
        "    def __init__(self, vehicle_type, brand, battery_capacity):\n",
        "        super().__init__(vehicle_type, brand)\n",
        "        self.battery_capacity = battery_capacity\n",
        "\n",
        "# Example\n",
        "\n",
        "tesla = ElectricCar (\"Electric\",\"Tesla\",\"100 KWh\")\n",
        "print(f\"Type: {tesla.vehicle_type}\")\n",
        "print(f\"Brand: {tesla.brand}\")\n",
        "print(f\"Battery Capacity: {tesla.battery_capacity}\")\n"
      ],
      "metadata": {
        "id": "jJV0ifJigEgg",
        "colab": {
          "base_uri": "https://localhost:8080/"
        },
        "outputId": "13f6cde5-87df-473c-ef7f-8ea31434b243"
      },
      "execution_count": null,
      "outputs": [
        {
          "output_type": "stream",
          "name": "stdout",
          "text": [
            "Type: Electric\n",
            "Brand: Tesla\n",
            "Battery Capacity: 100 KWh\n"
          ]
        }
      ]
    },
    {
      "cell_type": "code",
      "source": [
        "# 4 Write a program to demonstrate encapsulation by creating a class Bank Account with private attributes balance and methods to deposit, withdraw and check balance.\n",
        "\n",
        "class BankAccount:\n",
        "    def __init__(self):\n",
        "         self.__balance = 0\n",
        "\n",
        "    def deposit(self, amount):\n",
        "         if amount > 0:\n",
        "             self.__balance += amount\n",
        "             print(f\"Deposited: {amount}\")\n",
        "         else:\n",
        "             print(\"Invalid deposit amount.\")\n",
        "\n",
        "    def withdraw(self, amount):\n",
        "         if 0 < amount <= self.__balance:\n",
        "             self.__balance -= amount\n",
        "             print(f\"Withdrew: {amount}\")\n",
        "         else:\n",
        "             print(\"Invalid withdrawal amount\")\n",
        "\n",
        "    def check_balance(self):\n",
        "         return self.__balance\n",
        "\n",
        "# Example\n",
        "account = BankAccount()\n",
        "account.deposit(500)\n",
        "account.withdraw(200)\n",
        "print(f\"Current Balance: {account.check_balance()}\")"
      ],
      "metadata": {
        "id": "rFZwfe9TgEoF",
        "colab": {
          "base_uri": "https://localhost:8080/"
        },
        "outputId": "a8a8c771-6270-4138-bc8f-c86a4e8674ee"
      },
      "execution_count": null,
      "outputs": [
        {
          "output_type": "stream",
          "name": "stdout",
          "text": [
            "Deposited: 500\n",
            "Withdrew: 200\n",
            "Current Balance: 300\n"
          ]
        }
      ]
    },
    {
      "cell_type": "code",
      "source": [
        "# 5 Demonstrate runtime polymorphism using a method play() in a base class instrument. Derive classes Guitar and Piano that implement their own version of play().\n",
        "class Instrument:\n",
        "    def play(self):\n",
        "        pass\n",
        "\n",
        "class Guitar(Instrument):\n",
        "    def play(self):\n",
        "        print(\"Playing the guitar.\")\n",
        "\n",
        "class Piano(Instrument):\n",
        "    def play(self):\n",
        "        print(\"Playing the piano.\")\n",
        "# Example\n",
        "instruments = [Guitar(), Piano()]\n",
        "for instrument in instruments:\n",
        "    instrument.play()\n"
      ],
      "metadata": {
        "id": "8p-ThigCgEsv",
        "colab": {
          "base_uri": "https://localhost:8080/"
        },
        "outputId": "28954c81-188c-473f-a5dc-258f3af11f23"
      },
      "execution_count": null,
      "outputs": [
        {
          "output_type": "stream",
          "name": "stdout",
          "text": [
            "Playing the guitar.\n",
            "Playing the piano.\n"
          ]
        }
      ]
    },
    {
      "cell_type": "code",
      "source": [
        "# 6 Create a class Math Operations with a class method add_numbers () to add two numvers and a static method subtract _numbers() to subtract two numbers.\n",
        "class MathOperations:\n",
        "    @classmethod\n",
        "    def add_numbers(cls, a, b):\n",
        "        return a + b\n",
        "\n",
        "    @staticmethod\n",
        "    def subtract_numbers(a, b):\n",
        "        return a - b\n",
        "#Example\n",
        "print(f\"Addition: {MathOperations.add_numbers(5, 3)}\")\n",
        "print(f\"Subtraction: {MathOperations.subtract_numbers(10, 4)}\")"
      ],
      "metadata": {
        "id": "Jk16VG3XgEwK",
        "colab": {
          "base_uri": "https://localhost:8080/"
        },
        "outputId": "0951f379-7a8a-408a-8aec-1fd24e64bf0e"
      },
      "execution_count": null,
      "outputs": [
        {
          "output_type": "stream",
          "name": "stdout",
          "text": [
            "Addition: 8\n",
            "Subtraction: 6\n"
          ]
        }
      ]
    },
    {
      "cell_type": "code",
      "source": [
        "# 7 Implement a class Person with a class method to count the total number of persons created.\n",
        "class Person:\n",
        "    count = 0\n",
        "\n",
        "    def __init__(self,):\n",
        "        Person.count += 1\n",
        "\n",
        "    @classmethod\n",
        "    def total_persons(cls):\n",
        "        return cls.count\n",
        "\n",
        "# Example\n",
        "person1 = Person()\n",
        "person2 = Person()\n",
        "person3 = Person()\n",
        "print(f\"Total persons: {Person.total_persons()}\")"
      ],
      "metadata": {
        "id": "VoWMTgBKgE0W",
        "colab": {
          "base_uri": "https://localhost:8080/"
        },
        "outputId": "6d3a9d8c-b0a8-43ef-c913-7cdca436f53e"
      },
      "execution_count": null,
      "outputs": [
        {
          "output_type": "stream",
          "name": "stdout",
          "text": [
            "Total persons: 3\n"
          ]
        }
      ]
    },
    {
      "cell_type": "code",
      "source": [
        "# 8 Write a class Fraction with attributes numerator and denominator. Override the str method to display the fraction as \"numerator / denominator.\"\n",
        "class Fraction :\n",
        "    def __init__(self, numerator, denominator):\n",
        "        self.numerator = numerator\n",
        "        self.denominator = denominator\n",
        "\n",
        "    def __str__(self):\n",
        "        return f\"{self.numerator} / {self.denominator}\"\n",
        "# Example\n",
        "f = Fraction(3,4)\n",
        "print(f)"
      ],
      "metadata": {
        "colab": {
          "base_uri": "https://localhost:8080/"
        },
        "id": "fMCAmiYFn9jP",
        "outputId": "0fc0b57a-1e88-451b-d9ea-915a6a76ec7a"
      },
      "execution_count": null,
      "outputs": [
        {
          "output_type": "stream",
          "name": "stdout",
          "text": [
            "3 / 4\n"
          ]
        }
      ]
    },
    {
      "cell_type": "code",
      "source": [
        "# 9 Demonstrate operator overloading by creating a class Vector and overriding the add method to add two vectors.\n",
        "class Vector:\n",
        "    def __init__(self, x, y):\n",
        "        self.x = x\n",
        "        self.y = y\n",
        "\n",
        "    def __add__(self, other):\n",
        "        return Vector(self.x + other.x, self.y + other.y)\n",
        "\n",
        "    def __str__(self):\n",
        "        return f\"({self.x}, {self.y})\"\n",
        "\n",
        "# Example\n",
        "vector1 = Vector(1, 2)\n",
        "vector2 = Vector(3, 4)\n",
        "result = vector1 + vector2\n",
        "print(result)"
      ],
      "metadata": {
        "id": "PHQNkquIgE8q",
        "colab": {
          "base_uri": "https://localhost:8080/"
        },
        "outputId": "48bd296a-cf32-4e7b-b220-c6aa3c24b2fa"
      },
      "execution_count": null,
      "outputs": [
        {
          "output_type": "stream",
          "name": "stdout",
          "text": [
            "(4, 6)\n"
          ]
        }
      ]
    },
    {
      "cell_type": "code",
      "source": [
        "# 10 Create a class Person with attributes name and age . Add a method greet () that prints \"Hello\", my name is {name} and i am {age} years old\".\n",
        "class Person:\n",
        "    def __init__(self, name, age):\n",
        "        self.name = name\n",
        "        self.age = age\n",
        "\n",
        "    def greet(self):\n",
        "        return f\"Hello, my name is {self.name} and I am {self.age} years old.\"\n",
        "# Example\n",
        "p = Person(\"Alice\", 25)\n",
        "print(p.greet())"
      ],
      "metadata": {
        "id": "zsbeW1MtgFA1",
        "colab": {
          "base_uri": "https://localhost:8080/"
        },
        "outputId": "2bfd25c2-e1a2-48cb-8fd2-770551dbb71a"
      },
      "execution_count": null,
      "outputs": [
        {
          "output_type": "stream",
          "name": "stdout",
          "text": [
            "Hello, my name is Alice and I am 25 years old.\n"
          ]
        }
      ]
    },
    {
      "cell_type": "code",
      "source": [
        "# 11 Implement a class Student with attributes name and grades . Create a method average_grade () to compute the average of the grades.\n",
        "class Student:\n",
        "    def __init__(self, name , grades):\n",
        "        self.name = name\n",
        "        self.grades = grades\n",
        "    def average_grade(self):\n",
        "        return sum(self.grades) / len(self.grades)\n",
        "# Example\n",
        "s = Student(\"Bob\", [85, 90, 78, 92])\n",
        "print(f\"Average Grade: {s.average_grade()}\")"
      ],
      "metadata": {
        "id": "AziqL7vCgFEd",
        "colab": {
          "base_uri": "https://localhost:8080/"
        },
        "outputId": "4ad45ff6-5170-4c3c-f2f1-33f763df704d"
      },
      "execution_count": null,
      "outputs": [
        {
          "output_type": "stream",
          "name": "stdout",
          "text": [
            "Average Grade: 86.25\n"
          ]
        }
      ]
    },
    {
      "cell_type": "code",
      "source": [
        "# 12 Create a class Rectangle with methods set_dimensions () to set the dimensions and area() to calculate the area .\n",
        "class Rectangle:\n",
        "    def __init__(self):\n",
        "        self.length = 0\n",
        "        self.width = 0\n",
        "\n",
        "    def set_dimensions(self, length, width):\n",
        "        self.length = length\n",
        "        self.width = width\n",
        "\n",
        "    def area(self):\n",
        "        return self.length * self.width\n",
        "\n",
        "# Example\n",
        "r = Rectangle()\n",
        "r.set_dimensions(5, 3)\n",
        "print(f\"Area: {r.area()}\")\n",
        "\n",
        "\n"
      ],
      "metadata": {
        "id": "0BEl6Os7gFIn",
        "colab": {
          "base_uri": "https://localhost:8080/"
        },
        "outputId": "a531f0f3-e9a7-4d9a-d61c-7caa6e1f0c92"
      },
      "execution_count": null,
      "outputs": [
        {
          "output_type": "stream",
          "name": "stdout",
          "text": [
            "Area: 15\n"
          ]
        }
      ]
    },
    {
      "cell_type": "code",
      "source": [
        "# 13 Create a class Employee with a method calculate_salary() that computes the salary based on hours worked and hourky rate. Create a derived class Manager that adds a bonus to teh salary.\n",
        "class Employee:\n",
        "    def __init__(self, hours_worked, hourly_rate):\n",
        "        self.hours_worked = hours_worked\n",
        "        self.hourly_rate = hourly_rate\n",
        "\n",
        "    def calculate_salary(self):\n",
        "        return self.hours_worked * self.hourly_rate\n",
        "class Manager(Employee):\n",
        "    def __init__(self, hours_worked, hourly_rate, bonus):\n",
        "        super().__init__(hours_worked, hourly_rate)\n",
        "        self.bonus = bonus\n",
        "\n",
        "    def calculate_salary(self):\n",
        "        base_salary = super().calculate_salary()\n",
        "        return base_salary + self.bonus\n",
        "\n",
        "# Example\n",
        "e = Employee(40, 15)\n",
        "print(f\"Employee Salary: {e.calculate_salary()}\")\n",
        "\n",
        "m = Manager(40, 15, 1000)\n",
        "print(f\"Manager Salary: {m.calculate_salary()}\")\n",
        "\n"
      ],
      "metadata": {
        "id": "x6Codgg4gFM6",
        "colab": {
          "base_uri": "https://localhost:8080/"
        },
        "outputId": "52aa532d-8471-4e0c-b9c3-017a8b48f20b"
      },
      "execution_count": null,
      "outputs": [
        {
          "output_type": "stream",
          "name": "stdout",
          "text": [
            "Employee Salary: 600\n",
            "Manager Salary: 1600\n"
          ]
        }
      ]
    },
    {
      "cell_type": "code",
      "source": [
        "# 14  Create a class Product with attributes name , price , and quantity. Implement a method total_price () that calculates the total price of the product.\n",
        "class Product:\n",
        "    def __init__(self, name, price, quantity):\n",
        "        self.name = name\n",
        "        self.price = price\n",
        "        self.quantity = quantity\n",
        "\n",
        "    def total_price(self):\n",
        "        return self.price * self.quantity\n",
        "# Example\n",
        "p = Product(\"Laptop\", 1000, 2)\n",
        "print(f\"Total Price: {p.total_price()}\")"
      ],
      "metadata": {
        "id": "nL0pP224gFQ-",
        "colab": {
          "base_uri": "https://localhost:8080/"
        },
        "outputId": "2f13a689-98c5-4675-9b9c-e8b35d331c89"
      },
      "execution_count": null,
      "outputs": [
        {
          "output_type": "stream",
          "name": "stdout",
          "text": [
            "Total Price: 2000\n"
          ]
        }
      ]
    },
    {
      "cell_type": "code",
      "source": [
        "\n",
        "# 15  Create a class Animal with an abstract method sound(). Create two derived classes cow and Sheep that implement the sound() method.\n",
        "from abc import ABC, abstractmethod\n",
        "\n",
        "class Animal(ABC):\n",
        "    @abstractmethod\n",
        "    def sound(self):\n",
        "        pass\n",
        "class Cow(Animal):\n",
        "    def sound(self):\n",
        "        print(\"Moo!\")\n",
        "class Sheep(Animal):\n",
        "    def sound(self):\n",
        "        print (\"Baa!\")\n",
        "# Example\n",
        "\n",
        "c = Cow()\n",
        "print(c.sound())\n",
        "s = Sheep()\n",
        "print(s.sound())\n"
      ],
      "metadata": {
        "id": "Tl_H_rtogFVK",
        "colab": {
          "base_uri": "https://localhost:8080/"
        },
        "outputId": "345d2681-82c8-4875-9280-9510daf05dd0"
      },
      "execution_count": 49,
      "outputs": [
        {
          "output_type": "stream",
          "name": "stdout",
          "text": [
            "Moo!\n",
            "None\n",
            "Baa!\n",
            "None\n"
          ]
        }
      ]
    },
    {
      "cell_type": "code",
      "source": [
        "# 16 Create a class Book with attributes title , author , and year_published. Add a method get_book_info() that returns a formatted string with the book's details.\n",
        "class Book:\n",
        "    def __init__(self, title, author, year_published):\n",
        "        self.title = title\n",
        "        self.author = author\n",
        "        self.year_published = year_published\n",
        "    def get_book_info(self):\n",
        "        return f\"(Title: '{self.title}', Author: '{self.author}', Year Published: '{self.year_published}')\"\n",
        "\n",
        "# Example\n",
        "b = Book(\"1984\", \"George Orwell\", 1949)\n",
        "print(b.get_book_info())\n",
        "\n"
      ],
      "metadata": {
        "colab": {
          "base_uri": "https://localhost:8080/"
        },
        "id": "vm7rECrzvBsQ",
        "outputId": "ed1c32d2-9d2f-4c8b-bfe5-dc0b29619188"
      },
      "execution_count": null,
      "outputs": [
        {
          "output_type": "stream",
          "name": "stdout",
          "text": [
            "(Title: '1984', Author: 'George Orwell', Year Published: '1949')\n"
          ]
        }
      ]
    },
    {
      "cell_type": "code",
      "source": [
        "# 17 Create a class House with attributes address and price. Create  a derived class Mansion that adds an attribute number_of_rooms.\n",
        "class House:\n",
        "    def __init__(self, address, price):\n",
        "        self.address = address\n",
        "        self.price = price\n",
        "class Mansion(House):\n",
        "    def __init__(self, address, price, number_of_rooms):\n",
        "        super().__init__(address, price)\n",
        "        self.number_of_rooms = number_of_rooms\n",
        "\n",
        "# Example\n",
        "m = Mansion(\"123 Main Street\", 250000, 5)\n",
        "print(f\"Address: {m.address}\")\n",
        "print(f\"Price: {m.price}\")\n",
        "print(f\"Number of Rooms: {m.number_of_rooms}\")"
      ],
      "metadata": {
        "id": "Oj0aa0fCgFpu",
        "colab": {
          "base_uri": "https://localhost:8080/"
        },
        "outputId": "8484aed1-f8e6-4082-ecbe-17e456f02538"
      },
      "execution_count": null,
      "outputs": [
        {
          "output_type": "stream",
          "name": "stdout",
          "text": [
            "Address: 123 Main Street\n",
            "Price: 250000\n",
            "Number of Rooms: 5\n"
          ]
        }
      ]
    }
  ]
}